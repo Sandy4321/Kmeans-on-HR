{
 "cells": [
  {
   "cell_type": "markdown",
   "metadata": {},
   "source": [
    "# K-Means on Human Resource Data Set\n",
    "\n",
    "**Simulated Data courtesy of Ludovic Benistant via https://www.kaggle.com/ludobenistant/hr-analytics**\n",
    "\n",
    "**Demonstration of K-means Algorithm Using HR data** \n"
   ]
  },
  {
   "cell_type": "code",
   "execution_count": 12,
   "metadata": {
    "collapsed": true
   },
   "outputs": [],
   "source": [
    "import matplotlib.pyplot as plt\n",
    "import numpy as np\n",
    "import csv"
   ]
  },
  {
   "cell_type": "markdown",
   "metadata": {},
   "source": [
    "## Initializing Data and Variables"
   ]
  },
  {
   "cell_type": "code",
   "execution_count": 13,
   "metadata": {
    "collapsed": true
   },
   "outputs": [],
   "source": [
    "test_size = 1000\n",
    "\n",
    "cross_validation_percent = .2 \n",
    "\n",
    "k = 3\n",
    "\n",
    "salaries = {'low': .2,\n",
    "            'medium': .5,\n",
    "            'high' : 1\n",
    "            }\n",
    "colors = {\n",
    "    0: 'r',\n",
    "    1: 'g',\n",
    "    2: 'orange',\n",
    "    3: 'b',\n",
    "    4: 'y',\n",
    "    5: 'black',\n",
    "    6: 'purple'\n",
    "}\n",
    "iter_number = 12"
   ]
  },
  {
   "cell_type": "markdown",
   "metadata": {},
   "source": [
    "**Load data from file, store in a variable called data, then print to check if it worked**"
   ]
  },
  {
   "cell_type": "code",
   "execution_count": 14,
   "metadata": {},
   "outputs": [
    {
     "name": "stdout",
     "output_type": "stream",
     "text": [
      "['0.38', '0.53', '2', '157', '3', '0', '1', '0', 'low']\n"
     ]
    }
   ],
   "source": [
    "# Load data\n",
    "filename = 'C:/users/brandonwood/desktop/create/2017.csv'\n",
    "\n",
    "def openf(filename):\n",
    "    data = []\n",
    "    with open(filename, 'r') as csvfile:\n",
    "        plots = csv.reader(csvfile, delimiter = ',')\n",
    "        for row in plots:\n",
    "            data.append(row)\n",
    "    return data\n",
    "data = openf(filename)\n",
    "\n",
    "print(data[0])"
   ]
  },
  {
   "cell_type": "markdown",
   "metadata": {},
   "source": [
    "## Cleaning the Data\n",
    "\n",
    "**Here we clean the data.The last column of every person in the data set is their wage, grouped as either low, medium, or high. We convert those into real numbers and turn that into a numpy arrray, then slim down the training set.**"
   ]
  },
  {
   "cell_type": "code",
   "execution_count": 15,
   "metadata": {},
   "outputs": [
    {
     "name": "stdout",
     "output_type": "stream",
     "text": [
      "[ 0.92  0.67]\n",
      "(1000, 2)\n"
     ]
    }
   ],
   "source": [
    "# Conver wage classes into real numbers\n",
    "def convert_from_dict(data, salaries):\n",
    "    for person in data:\n",
    "        for key, val in salaries.items():\n",
    "            if person[8] == key:\n",
    "                person[8] =  val\n",
    "    return data\n",
    "\n",
    "data = convert_from_dict(data, salaries)\n",
    "\n",
    "# Convert to numpy array of ints\n",
    "# for num, row in enumerate(data):\n",
    "#     for n, element in enumerate(row):\n",
    "#         data[num][n] = float(element)\n",
    "data = np.asarray(data, dtype = 'float')\n",
    "\n",
    "\n",
    "\n",
    "# Slimming Data\n",
    "np.random.shuffle(data)\n",
    "data = data[:test_size]\n",
    "data = data[:, :2]\n",
    "\n",
    "print(data[-1])\n",
    "print(data.shape)"
   ]
  },
  {
   "cell_type": "markdown",
   "metadata": {},
   "source": [
    "## Checking Data\n",
    "\n",
    "** We graph the first two axis of the data against one another to ensure the data is stored properly, and, more importantly, attempt to visualize it.**"
   ]
  },
  {
   "cell_type": "code",
   "execution_count": 16,
   "metadata": {},
   "outputs": [
    {
     "data": {
      "image/png": "[encoded data removed]",
      "text/plain": [
       "<matplotlib.figure.Figure at 0x21dc5392be0>"
      ]
     },
     "metadata": {},
     "output_type": "display_data"
    }
   ],
   "source": [
    "plt.scatter(data[:,0], data[:,1], color = 'b')\n",
    "plt.title(\"Data\")\n",
    "plt.ylabel('Attribute 1')\n",
    "plt.ylabel('Attribute 2')\n",
    "plt.show()"
   ]
  },
  {
   "cell_type": "markdown",
   "metadata": {},
   "source": [
    "## Initializing Centroids\n",
    "\n",
    "**We randomly initialize the k centroids, and graph them.**"
   ]
  },
  {
   "cell_type": "code",
   "execution_count": 17,
   "metadata": {},
   "outputs": [
    {
     "name": "stdout",
     "output_type": "stream",
     "text": [
      "[[ 0.88  0.8 ]\n",
      " [ 0.13  0.61]\n",
      " [ 0.39  0.56]]\n"
     ]
    }
   ],
   "source": [
    "# Randomly select centroids\n",
    "def init_centroids(data, k):\n",
    "    centroids = data.copy()\n",
    "    np.random.shuffle(centroids)\n",
    "    return centroids[:k]\n",
    "# Randomly Init with k centroids\n",
    "centroids = init_centroids(data, k)\n",
    "print(centroids)"
   ]
  },
  {
   "cell_type": "code",
   "execution_count": 18,
   "metadata": {},
   "outputs": [
    {
     "data": {
      "image/png": "[encoded data removed]",
      "text/plain": [
       "<matplotlib.figure.Figure at 0x21dc2d716d8>"
      ]
     },
     "metadata": {},
     "output_type": "display_data"
    }
   ],
   "source": [
    "# Draw some of the data with centroids\n",
    "plt.scatter(data[:test_size,0], data[:test_size,1], color = 'b')\n",
    "plt.scatter(centroids[:,0], centroids[:,1], color ='r', marker = 'o', s = 250)\n",
    "plt.show()"
   ]
  },
  {
   "cell_type": "markdown",
   "metadata": {},
   "source": [
    "## Writing the Algorithm\n",
    "** Now that we have the data and the centroids, we can start running the algorithm. The k-means algorithm works in two steps:** \n",
    "\n",
    "1. Group the data into clusters.\n",
    "2. Move the centroids towards the center of their clusters. \n",
    "\n",
    "<i> **We do this until no more data points move clusters after the centroids move.** </i>\n"
   ]
  },
  {
   "cell_type": "markdown",
   "metadata": {},
   "source": [
    "### Step 1 Definitions - Assigning Clusters"
   ]
  },
  {
   "cell_type": "markdown",
   "metadata": {},
   "source": [
    "### Generating a Distance Matrix.\n",
    "\n",
    "**Our goal is to create a distance matrix where the element[i,j] shows the distance beween the ith person in the data set and the jth centroid.**"
   ]
  },
  {
   "cell_type": "code",
   "execution_count": 19,
   "metadata": {
    "collapsed": true,
    "scrolled": true
   },
   "outputs": [],
   "source": [
    "def distance(X, Y):\n",
    "    X2 = np.sum(X**2, axis=1, keepdims=True)\n",
    "    Y2 = np.sum(Y**2, axis=1)\n",
    "    XY = -2*np.dot(X, Y.T)\n",
    "    total = X2 + Y2 + XY\n",
    "    return np.sqrt(total)\n",
    "\n",
    "\n",
    "def average_distance(clusters, centroids, distances):\n",
    "    average_distances = np.zeros(k)\n",
    "    count = np.zeros(k)\n",
    "    for person, index in enumerate(clusters):\n",
    "        average_distances[int(index)] += distances[person][int(index)]\n",
    "        count[int(index)] += 1\n",
    "    average_distances /= count\n",
    "    \n",
    "    return np.sum(average_distances)"
   ]
  },
  {
   "cell_type": "markdown",
   "metadata": {},
   "source": [
    "** We can then generate a new vector to hold the index of the closest centroid for each person.**"
   ]
  },
  {
   "cell_type": "code",
   "execution_count": 20,
   "metadata": {
    "scrolled": true
   },
   "outputs": [
    {
     "name": "stdout",
     "output_type": "stream",
     "text": [
      "[ 2.  2.  0.  0.  2.  0.  2.  0.  0.  0.  2.  0.  2.  0.  2.  0.  0.  2.\n",
      "  0.  0.  2.  0.  2.  0.  1.  0.  0.  2.  0.  2.  0.  0.  0.  0.  1.  0.\n",
      "  0.  0.  2.  1.  1.  0.  0.  1.  0.  1.  1.  0.  1.  2.  0.  2.  2.  0.\n",
      "  1.  0.  0.  0.  0.  2.  0.  0.  0.  2.  0.  0.  2.  0.  2.  2.  1.  0.\n",
      "  2.  1.  1.  2.  0.  1.  0.  2.  0.  2.  2.  0.  0.  2.  0.  0.  1.  2.\n",
      "  0.  0.  0.  2.  2.  2.  1.  2.  0.  0.  2.  0.  2.  0.  2.  1.  0.  0.\n",
      "  0.  0.  0.  2.  2.  2.  2.  2.  0.  2.  0.  0.  1.  2.  1.  2.  0.  1.\n",
      "  0.  2.  1.  2.  2.  0.  0.  2.  0.  0.  0.  0.  0.  0.  2.  2.  2.  0.\n",
      "  2.  0.  2.  0.  2.  2.  0.  0.  2.  0.  0.  1.  0.  2.  1.  0.  0.  0.\n",
      "  1.  1.  2.  0.  0.  0.  2.  0.  0.  2.  2.  2.  2.  2.  2.  2.  2.  0.\n",
      "  2.  0.  0.  0.  1.  0.  2.  0.  2.  2.  2.  0.  2.  2.  2.  0.  0.  2.\n",
      "  0.  2.  0.  2.  1.  0.  2.  0.  0.  2.  0.  0.  0.  0.  2.  0.  2.  0.\n",
      "  0.  0.  0.  1.  1.  2.  2.  2.  0.  1.  2.  0.  2.  1.  1.  0.  1.  2.\n",
      "  0.  0.  0.  1.  0.  2.  1.  2.  0.  0.  0.  0.  0.  2.  0.  2.  2.  0.\n",
      "  1.  0.  2.  2.  0.  1.  0.  2.  2.  0.  0.  0.  2.  2.  2.  0.  0.  0.\n",
      "  0.  1.  1.  0.  1.  0.  0.  1.  0.  0.  0.  0.  2.  0.  0.  2.  0.  2.\n",
      "  0.  0.  2.  0.  2.  0.  2.  0.  1.  2.  0.  2.  2.  0.  0.  0.  0.  2.\n",
      "  0.  2.  0.  2.  2.  2.  0.  0.  2.  1.  0.  0.  0.  2.  0.  0.  2.  2.\n",
      "  0.  1.  2.  2.  0.  0.  0.  0.  2.  0.  0.  2.  0.  2.  2.  0.  0.  2.\n",
      "  0.  0.  1.  0.  2.  2.  0.  2.  0.  2.  0.  0.  0.  0.  0.  2.  2.  1.\n",
      "  2.  0.  0.  1.  0.  2.  1.  2.  2.  0.  1.  0.  2.  1.  2.  0.  1.  0.\n",
      "  2.  2.  2.  2.  0.  0.  1.  0.  0.  0.  0.  0.  0.  2.  2.  0.  2.  0.\n",
      "  0.  1.  0.  0.  2.  2.  0.  2.  2.  0.  0.  0.  2.  0.  0.  2.  0.  1.\n",
      "  0.  1.  0.  0.  1.  2.  0.  0.  0.  0.  2.  2.  0.  0.  0.  2.  2.  2.\n",
      "  1.  0.  0.  0.  0.  1.  0.  0.  2.  2.  2.  0.  0.  2.  0.  0.  0.  0.\n",
      "  0.  0.  0.  0.  0.  0.  0.  2.  0.  0.  0.  0.  1.  0.  0.  2.  0.  1.\n",
      "  2.  0.  0.  1.  0.  0.  2.  2.  2.  0.  0.  0.  0.  0.  0.  0.  1.  0.\n",
      "  0.  2.  2.  0.  0.  2.  0.  0.  0.  0.  0.  1.  2.  2.  0.  0.  0.  2.\n",
      "  0.  0.  2.  0.  2.  1.  0.  2.  1.  0.  0.  2.  1.  0.  0.  2.  2.  0.\n",
      "  1.  0.  0.  0.  2.  2.  0.  0.  0.  2.  0.  1.  2.  0.  2.  0.  2.  1.\n",
      "  0.  0.  2.  0.  1.  0.  0.  0.  2.  1.  0.  0.  0.  2.  0.  0.  0.  2.\n",
      "  2.  1.  0.  1.  0.  0.  1.  2.  2.  0.  2.  2.  2.  1.  2.  2.  2.  0.\n",
      "  0.  0.  0.  0.  0.  0.  0.  2.  1.  2.  2.  2.  2.  1.  2.  1.  0.  2.\n",
      "  2.  2.  1.  0.  2.  2.  2.  0.  2.  2.  1.  0.  2.  0.  2.  0.  0.  0.\n",
      "  1.  0.  0.  0.  1.  1.  1.  0.  0.  2.  0.  2.  2.  1.  0.  2.  0.  0.\n",
      "  1.  0.  0.  2.  2.  0.  2.  2.  0.  1.  2.  0.  0.  0.  0.  0.  0.  2.\n",
      "  2.  0.  0.  0.  1.  0.  0.  2.  0.  2.  2.  0.  2.  0.  0.  1.  0.  0.\n",
      "  0.  2.  1.  2.  2.  0.  0.  0.  2.  0.  0.  0.  0.  0.  2.  0.  0.  2.\n",
      "  0.  0.  0.  0.  2.  1.  0.  0.  2.  0.  2.  0.  2.  2.  2.  0.  0.  0.\n",
      "  0.  1.  2.  2.  0.  0.  0.  2.  0.  0.  2.  2.  0.  0.  1.  0.  0.  1.\n",
      "  2.  2.  0.  2.  2.  2.  0.  1.  0.  2.  2.  0.  2.  2.  0.  0.  2.  0.\n",
      "  2.  0.  0.  2.  0.  0.  0.  2.  0.  0.  2.  2.  0.  0.  0.  0.  1.  2.\n",
      "  0.  1.  2.  0.  0.  0.  1.  0.  0.  2.  1.  2.  2.  1.  0.  2.  0.  0.\n",
      "  1.  1.  2.  0.  0.  0.  0.  2.  1.  0.  0.  2.  0.  0.  2.  2.  0.  2.\n",
      "  2.  2.  2.  0.  0.  2.  0.  1.  0.  2.  0.  1.  0.  2.  1.  2.  0.  1.\n",
      "  2.  0.  2.  0.  0.  0.  0.  0.  2.  0.  0.  0.  0.  0.  2.  0.  0.  0.\n",
      "  0.  0.  0.  0.  0.  0.  1.  0.  0.  0.  0.  2.  0.  1.  0.  0.  0.  0.\n",
      "  1.  0.  2.  1.  0.  0.  0.  0.  0.  0.  0.  0.  2.  0.  1.  2.  0.  0.\n",
      "  0.  2.  0.  2.  2.  2.  0.  2.  0.  0.  2.  0.  0.  0.  0.  0.  2.  0.\n",
      "  0.  0.  1.  1.  0.  2.  1.  0.  0.  2.  2.  2.  0.  2.  0.  2.  0.  2.\n",
      "  2.  0.  2.  0.  0.  0.  2.  0.  1.  2.  0.  2.  2.  0.  0.  0.  1.  0.\n",
      "  0.  1.  2.  2.  2.  2.  2.  0.  0.  2.  2.  0.  0.  0.  0.  2.  2.  2.\n",
      "  2.  2.  0.  2.  2.  1.  2.  0.  2.  0.  1.  2.  0.  2.  2.  0.  0.  2.\n",
      "  0.  1.  0.  0.  0.  2.  2.  0.  2.  2.  0.  0.  0.  2.  2.  2.  0.  0.\n",
      "  2.  0.  1.  2.  1.  0.  2.  0.  1.  0.  2.  0.  2.  0.  2.  2.  2.  2.\n",
      "  0.  0.  0.  0.  1.  0.  2.  2.  2.  0.]\n"
     ]
    }
   ],
   "source": [
    "def assign_everyone():\n",
    "    distances = distance(data, centroids)\n",
    "    \n",
    "    clusters = np.zeros(distances.shape[0])\n",
    "    \n",
    "    for row, person in enumerate(distances):\n",
    "        closest_index = 0\n",
    "        for num, centroid_dist in enumerate(person):\n",
    "            if centroid_dist < person[closest_index]:\n",
    "                closest_index = num\n",
    "        clusters[row] = closest_index\n",
    "    \n",
    "    return clusters\n",
    "        \n",
    "    \n",
    "clusters = assign_everyone()\n",
    "\n",
    "print(clusters)"
   ]
  },
  {
   "cell_type": "markdown",
   "metadata": {},
   "source": [
    "## Step 2 Definintions - Moving the Centroids"
   ]
  },
  {
   "cell_type": "code",
   "execution_count": 21,
   "metadata": {},
   "outputs": [
    {
     "name": "stdout",
     "output_type": "stream",
     "text": [
      "[[ 0.79531073  0.78269303]\n",
      " [ 0.16540323  0.77572581]\n",
      " [ 0.48281159  0.5724058 ]]\n"
     ]
    }
   ],
   "source": [
    "def move_centroids():\n",
    "    new_centroids = np.zeros(centroids.shape)\n",
    "    counter = np.zeros(centroids.shape)\n",
    "    \n",
    "    for pi, index in enumerate(clusters):\n",
    "        new_centroids[int(index)] += data[pi]\n",
    "        counter[int(index)] += 1\n",
    "    new_centroids /= counter\n",
    "    return new_centroids\n",
    "          \n",
    "centroids = move_centroids()\n",
    "print(centroids)"
   ]
  },
  {
   "cell_type": "markdown",
   "metadata": {},
   "source": [
    "## Running the Algorithm"
   ]
  },
  {
   "cell_type": "code",
   "execution_count": 22,
   "metadata": {
    "scrolled": true
   },
   "outputs": [
    {
     "data": {
      "image/png": "[encoded data removed]",
      "text/plain": [
       "<matplotlib.figure.Figure at 0x21dc320dc18>"
      ]
     },
     "metadata": {},
     "output_type": "display_data"
    },
    {
     "data": {
      "image/png": "[encoded data removed]",
      "text/plain": [
       "<matplotlib.figure.Figure at 0x21dc2ff6e80>"
      ]
     },
     "metadata": {},
     "output_type": "display_data"
    }
   ],
   "source": [
    "new_clusters = assign_everyone()\n",
    "count = 0\n",
    "\n",
    "average_distances = np.zeros(iter_number)\n",
    "\n",
    "while new_clusters.all() != clusters.all() or count < iter_number:\n",
    "\n",
    "    clusters = new_clusters\n",
    "    centroids = move_centroids()\n",
    "    new_clusters = assign_everyone()\n",
    "\n",
    "    distances = distance(data, centroids)\n",
    "    average_distances[count] += average_distance(clusters, centroids, distances)\n",
    "    \n",
    "    count += 1\n",
    "\n",
    "plt.scatter(range(iter_number), average_distances[:], color = 'b')\n",
    "plt.title('Distance vs Iterations')\n",
    "plt.xlabel('Iterations')\n",
    "plt.ylabel('Average Distance')\n",
    "plt.show()\n",
    "\n",
    "\n",
    "for idx, person in enumerate(data):\n",
    "    plt.scatter(person[0], person[1], color = colors[int(clusters[idx])])\n",
    "    plt.scatter(centroids[int(clusters[idx])][0], centroids[int(clusters[idx])][1], color = colors[int(clusters[idx])], marker = '*', s = 500)\n",
    "plt.show()"
   ]
  },
  {
   "cell_type": "markdown",
   "metadata": {},
   "source": [
    "## Conclusions"
   ]
  },
  {
   "cell_type": "markdown",
   "metadata": {},
   "source": [
    "1. The distance declines steadily then remains largely stable at what we can assume is a local maximum\n",
    "2. The there is not a strong grouping of employees, as the average distance declined only a small amount relatieve to its magnitude. This could be due to the large number of dimmensions with high irregularity."
   ]
  },
  {
   "cell_type": "markdown",
   "metadata": {},
   "source": [
    "## Citations"
   ]
  },
  {
   "cell_type": "markdown",
   "metadata": {},
   "source": [
    "1. **Numpy and SciPy** - Stéfan van der Walt, S. Chris Colbert and Gaël Varoquaux. The NumPy Array: A Structure for Efficient Numerical Computation, Computing in Science & Engineering, 13, 22-30 (2011), DOI:10.1109/MCSE.2011.37 (publisher link)\n",
    "2. **Matplotlib** - John D. Hunter. Matplotlib: A 2D Graphics Environment, Computing in Science & Engineering, 9, 90-95 (2007), DOI:10.1109/MCSE.2007.55 (publisher link)\n",
    "3. **IPython** - Fernando Pérez and Brian E. Granger. IPython: A System for Interactive Scientific Computing, Computing in Science & Engineering, 9, 21-29 (2007), DOI:10.1109/MCSE.2007.53 (publisher link)\n",
    "4. **Data** - From Ludovic Benistant through Kaggle, https://www.kaggle.com/ludobenistant/hr-analytics"
   ]
  }
 ],
 "metadata": {
  "kernelspec": {
   "display_name": "Python 3",
   "language": "python",
   "name": "python3"
  },
  "language_info": {
   "codemirror_mode": {
    "name": "ipython",
    "version": 3
   },
   "file_extension": ".py",
   "mimetype": "text/x-python",
   "name": "python",
   "nbconvert_exporter": "python",
   "pygments_lexer": "ipython3",
   "version": "3.6.1"
  }
 },
 "nbformat": 4,
 "nbformat_minor": 2
}
