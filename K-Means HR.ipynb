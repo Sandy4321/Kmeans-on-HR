{
 "cells": [
  {
   "cell_type": "code",
   "execution_count": 2,
   "metadata": {
    "collapsed": true
   },
   "outputs": [],
   "source": [
    "import matplotlib.pyplot as plt\n",
    "import numpy as np\n",
    "import csv"
   ]
  },
  {
   "cell_type": "markdown",
   "metadata": {},
   "source": [
    "Initialize variables for testing, knobs, etc."
   ]
  },
  {
   "cell_type": "code",
   "execution_count": 3,
   "metadata": {
    "collapsed": true
   },
   "outputs": [],
   "source": [
    "test_size = 200\n",
    "k = 3"
   ]
  },
  {
   "cell_type": "markdown",
   "metadata": {},
   "source": [
    "Load data from file, store in a variable called data, then print to check if it worked"
   ]
  },
  {
   "cell_type": "code",
   "execution_count": 4,
   "metadata": {},
   "outputs": [
    {
     "name": "stdout",
     "output_type": "stream",
     "text": [
      "['0.38', '0.53', '2', '157', '3', '0', '1', '0', 'low']\n"
     ]
    }
   ],
   "source": [
    "# Load data\n",
    "filename = 'C:/users/brandonwood/desktop/create/2017.csv'\n",
    "\n",
    "def openf(filename):\n",
    "    data = []\n",
    "    with open(filename, 'r') as csvfile:\n",
    "        plots = csv.reader(csvfile, delimiter = ',')\n",
    "        for row in plots:\n",
    "            data.append(row)\n",
    "    return data\n",
    "data = openf(filename)\n",
    "print(data[0])"
   ]
  },
  {
   "cell_type": "markdown",
   "metadata": {},
   "source": [
    "Here we clean the data.The last column of every person in the data set is their wage, grouped as either low, medium, or high. We convert those into real numbers and turn that into a numpy arrray"
   ]
  },
  {
   "cell_type": "code",
   "execution_count": 5,
   "metadata": {},
   "outputs": [
    {
     "name": "stdout",
     "output_type": "stream",
     "text": [
      "['0.37', '0.52', '2', '158', '3', '0', '1', '0', 0.2]\n"
     ]
    }
   ],
   "source": [
    "# Conver wage classes into real numbers\n",
    "def convert_from_dict(data, salaries):\n",
    "    for person in data:\n",
    "        for key, val in salaries.items():\n",
    "            if person[8] == key:\n",
    "                person[8] =  val\n",
    "    return data\n",
    "salaries = {'low': .2,\n",
    "            'medium': .5,\n",
    "            'high' : 1\n",
    "            }\n",
    "data = convert_from_dict(data, salaries)\n",
    "print(data[-1])\n",
    "\n",
    "# Convert to numpy array\n",
    "data = np.asarray(data)"
   ]
  },
  {
   "cell_type": "code",
   "execution_count": 6,
   "metadata": {},
   "outputs": [
    {
     "data": {
      "image/png": "[encoded data removed]",
      "text/plain": [
       "<matplotlib.figure.Figure at 0x1ae652ea860>"
      ]
     },
     "metadata": {},
     "output_type": "display_data"
    }
   ],
   "source": [
    "plt.scatter(data[:test_size,0], data[:test_size,1], color = 'g')\n",
    "plt.show()"
   ]
  },
  {
   "cell_type": "code",
   "execution_count": 7,
   "metadata": {},
   "outputs": [
    {
     "name": "stdout",
     "output_type": "stream",
     "text": [
      "[['0.74' '0.64' '3' '136' '2' '0' '0' '0' '0.5']\n",
      " ['0.73' '0.55' '3' '149' '3' '0' '0' '0' '0.2']\n",
      " ['0.39' '0.48' '2' '160' '3' '0' '1' '0' '0.2']]\n"
     ]
    }
   ],
   "source": [
    "# Randomly select centroids\n",
    "def init_centroids(data, k):\n",
    "    centroids = data.copy()\n",
    "    np.random.shuffle(centroids)\n",
    "    return centroids[:k]\n",
    "# Randomly Init with 3 centroids\n",
    "centroids = init_centroids(data, k)\n",
    "print(centroids)"
   ]
  },
  {
   "cell_type": "code",
   "execution_count": 8,
   "metadata": {},
   "outputs": [
    {
     "data": {
      "image/png": "[encoded data removed]",
      "text/plain": [
       "<matplotlib.figure.Figure at 0x1ae64e5c438>"
      ]
     },
     "metadata": {},
     "output_type": "display_data"
    }
   ],
   "source": [
    "# Draw some of the data with centroids\n",
    "plt.scatter(data[:test_size,0], data[:test_size,1], color = 'g')\n",
    "plt.scatter(centroids[:,0], centroids[:,1], color ='r')\n",
    "plt.show()"
   ]
  },
  {
   "cell_type": "markdown",
   "metadata": {},
   "source": [
    "Now that we have the data and the centroids, we can start running the algorithm. The k-means algorithm works in two steps: group the data into clusters, then move the centroids towards the center of their clusters. We do this until no more data points move clusters after the centroids move."
   ]
  },
  {
   "cell_type": "markdown",
   "metadata": {},
   "source": [
    "Step 1 Definitions - assigning clusters"
   ]
  },
  {
   "cell_type": "code",
   "execution_count": 9,
   "metadata": {
    "collapsed": true
   },
   "outputs": [],
   "source": [
    "# Defining distance function - used in error later\n",
    "def distance(p, q):\n",
    "    p = p.astype(float)\n",
    "    q = q.astype(float)\n",
    "    return np.linalg.norm(p-q)\n",
    "\n",
    "# Step 1: cluster assignment\n",
    "def assign_everyone():\n",
    "    # Make new cluster every time - need to compare to last to determine when algorithm stops\n",
    "    # Make an empty array in the cluster array for each centroid\n",
    "    clusters = [ [] for num in range(len(centroids))]\n",
    "    # Loop through each person for assignment\n",
    "    \n",
    "    for person in data:\n",
    "        closest = 0\n",
    "        # Check each centroid\n",
    "        for num, centroid in enumerate(centroids):\n",
    "            if distance(person, centroid) < distance(person, centroids[closest]):\n",
    "                closest = num\n",
    "        # Add person to cluster that corresponds to closest centroid\n",
    "    \n",
    "        clusters[num].append(person)\n",
    "    return clusters "
   ]
  },
  {
   "cell_type": "markdown",
   "metadata": {},
   "source": [
    "Step 2 Definitions - moving centroids around"
   ]
  },
  {
   "cell_type": "code",
   "execution_count": 20,
   "metadata": {
    "scrolled": true
   },
   "outputs": [
    {
     "name": "stdout",
     "output_type": "stream",
     "text": [
      "[]\n"
     ]
    },
    {
     "ename": "IndexError",
     "evalue": "list index out of range",
     "output_type": "error",
     "traceback": [
      "\u001b[1;31m---------------------------------------------------------------------------\u001b[0m",
      "\u001b[1;31mIndexError\u001b[0m                                Traceback (most recent call last)",
      "\u001b[1;32m<ipython-input-20-64ebc46277ea>\u001b[0m in \u001b[0;36m<module>\u001b[1;34m()\u001b[0m\n\u001b[0;32m     15\u001b[0m \u001b[1;33m\u001b[0m\u001b[0m\n\u001b[0;32m     16\u001b[0m \u001b[0mc\u001b[0m \u001b[1;33m=\u001b[0m \u001b[0massign_everyone\u001b[0m\u001b[1;33m(\u001b[0m\u001b[1;33m)\u001b[0m\u001b[1;33m\u001b[0m\u001b[0m\n\u001b[1;32m---> 17\u001b[1;33m \u001b[0mcentroids\u001b[0m \u001b[1;33m=\u001b[0m \u001b[0mmove_centroids\u001b[0m\u001b[1;33m(\u001b[0m\u001b[0mc\u001b[0m\u001b[1;33m)\u001b[0m\u001b[1;33m\u001b[0m\u001b[0m\n\u001b[0m\u001b[0;32m     18\u001b[0m \u001b[1;33m\u001b[0m\u001b[0m\n\u001b[0;32m     19\u001b[0m \u001b[1;31m# plt.scatter(data[:test_size,0], data[:test_size,1], color = 'g')\u001b[0m\u001b[1;33m\u001b[0m\u001b[1;33m\u001b[0m\u001b[0m\n",
      "\u001b[1;32m<ipython-input-20-64ebc46277ea>\u001b[0m in \u001b[0;36mmove_centroids\u001b[1;34m(clusters)\u001b[0m\n\u001b[0;32m      9\u001b[0m     \u001b[0mnew_centroids\u001b[0m \u001b[1;33m=\u001b[0m \u001b[1;33m[\u001b[0m\u001b[1;33m]\u001b[0m\u001b[1;33m\u001b[0m\u001b[0m\n\u001b[0;32m     10\u001b[0m     \u001b[1;32mfor\u001b[0m \u001b[0mnum\u001b[0m\u001b[1;33m,\u001b[0m \u001b[0mcentroid\u001b[0m \u001b[1;32min\u001b[0m \u001b[0menumerate\u001b[0m\u001b[1;33m(\u001b[0m\u001b[0mcentroids\u001b[0m\u001b[1;33m)\u001b[0m\u001b[1;33m:\u001b[0m\u001b[1;33m\u001b[0m\u001b[0m\n\u001b[1;32m---> 11\u001b[1;33m         \u001b[0mavg\u001b[0m \u001b[1;33m=\u001b[0m \u001b[0maverage\u001b[0m\u001b[1;33m(\u001b[0m\u001b[0mclusters\u001b[0m\u001b[1;33m[\u001b[0m\u001b[0mnum\u001b[0m\u001b[1;33m]\u001b[0m\u001b[1;33m)\u001b[0m\u001b[1;33m\u001b[0m\u001b[0m\n\u001b[0m\u001b[0;32m     12\u001b[0m         \u001b[0mnew_centroids\u001b[0m\u001b[1;33m.\u001b[0m\u001b[0mappend\u001b[0m\u001b[1;33m(\u001b[0m\u001b[0mavg\u001b[0m\u001b[1;33m)\u001b[0m\u001b[1;33m\u001b[0m\u001b[0m\n\u001b[0;32m     13\u001b[0m     \u001b[1;32mreturn\u001b[0m \u001b[0mnp\u001b[0m\u001b[1;33m.\u001b[0m\u001b[0mmatrix\u001b[0m\u001b[1;33m(\u001b[0m\u001b[0mnew_centroids\u001b[0m\u001b[1;33m)\u001b[0m\u001b[1;33m\u001b[0m\u001b[0m\n",
      "\u001b[1;32m<ipython-input-20-64ebc46277ea>\u001b[0m in \u001b[0;36maverage\u001b[1;34m(cluster)\u001b[0m\n\u001b[0;32m      1\u001b[0m \u001b[1;32mdef\u001b[0m \u001b[0maverage\u001b[0m\u001b[1;33m(\u001b[0m\u001b[0mcluster\u001b[0m\u001b[1;33m)\u001b[0m\u001b[1;33m:\u001b[0m\u001b[1;33m\u001b[0m\u001b[0m\n\u001b[0;32m      2\u001b[0m     \u001b[0mprint\u001b[0m\u001b[1;33m(\u001b[0m\u001b[0mcluster\u001b[0m\u001b[1;33m)\u001b[0m\u001b[1;33m\u001b[0m\u001b[0m\n\u001b[1;32m----> 3\u001b[1;33m     \u001b[0maveraged\u001b[0m \u001b[1;33m=\u001b[0m \u001b[1;33m[\u001b[0m \u001b[1;33m[\u001b[0m\u001b[1;33m]\u001b[0m \u001b[1;32mfor\u001b[0m \u001b[0ma\u001b[0m \u001b[1;32min\u001b[0m \u001b[0mrange\u001b[0m\u001b[1;33m(\u001b[0m\u001b[0mlen\u001b[0m\u001b[1;33m(\u001b[0m\u001b[0mcluster\u001b[0m\u001b[1;33m[\u001b[0m\u001b[1;36m0\u001b[0m\u001b[1;33m]\u001b[0m\u001b[1;33m)\u001b[0m\u001b[1;33m)\u001b[0m \u001b[1;33m]\u001b[0m\u001b[1;33m\u001b[0m\u001b[0m\n\u001b[0m\u001b[0;32m      4\u001b[0m     \u001b[1;32mfor\u001b[0m \u001b[0mperson\u001b[0m \u001b[1;32min\u001b[0m \u001b[0mcluster\u001b[0m\u001b[1;33m:\u001b[0m\u001b[1;33m\u001b[0m\u001b[0m\n\u001b[0;32m      5\u001b[0m         \u001b[1;32mfor\u001b[0m \u001b[0mind\u001b[0m\u001b[1;33m,\u001b[0m \u001b[0maspect\u001b[0m \u001b[1;32min\u001b[0m \u001b[0menumerate\u001b[0m\u001b[1;33m(\u001b[0m\u001b[0mpers\u001b[0m\u001b[1;33m)\u001b[0m\u001b[1;33m:\u001b[0m\u001b[1;33m\u001b[0m\u001b[0m\n",
      "\u001b[1;31mIndexError\u001b[0m: list index out of range"
     ]
    }
   ],
   "source": [
    "def average(cluster):\n",
    "    print(cluster)\n",
    "    averaged = [ [] for a in range(len(cluster[0])) ]\n",
    "    for person in cluster:\n",
    "        for ind, aspect in enumerate(pers):\n",
    "            averaged[ind] += aspect\n",
    "    print(averaged)\n",
    "def move_centroids(clusters):\n",
    "    new_centroids = []\n",
    "    for num, centroid in enumerate(centroids):\n",
    "        avg = average(clusters[num])\n",
    "        new_centroids.append(avg)\n",
    "    return np.matrix(new_centroids)\n",
    "\n",
    "\n",
    "c = assign_everyone()\n",
    "centroids = move_centroids(c)\n",
    "\n",
    "# plt.scatter(data[:test_size,0], data[:test_size,1], color = 'g')\n",
    "# plt.scatter(centroids[:,0], centroids[:,1], color ='r')\n",
    "\n",
    "# plt.show()"
   ]
  },
  {
   "cell_type": "markdown",
   "metadata": {},
   "source": [
    "Run Algorithm"
   ]
  }
 ],
 "metadata": {
  "kernelspec": {
   "display_name": "Python 3",
   "language": "python",
   "name": "python3"
  },
  "language_info": {
   "codemirror_mode": {
    "name": "ipython",
    "version": 3
   },
   "file_extension": ".py",
   "mimetype": "text/x-python",
   "name": "python",
   "nbconvert_exporter": "python",
   "pygments_lexer": "ipython3",
   "version": "3.6.1"
  }
 },
 "nbformat": 4,
 "nbformat_minor": 2
}
